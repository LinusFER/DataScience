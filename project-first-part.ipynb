{
 "cells": [
  {
   "cell_type": "markdown",
   "metadata": {
    "id": "jc_8XakJdoj_"
   },
   "source": [
    "# Introduction to Data Science (UZOP) - Project - Part 1"
   ]
  },
  {
   "cell_type": "markdown",
   "metadata": {
    "id": "OEqHuTInhSm8"
   },
   "source": [
    "You will solve this project assignment using the dataset provided by the assistant you registered with. This exercise carries a total of 10 points. In case of any questions or ambiguities, please contact your assigned assistant."
   ]
  },
  {
   "cell_type": "code",
   "metadata": {
    "id": "q0cBJFiLiDqQ",
    "ExecuteTime": {
     "end_time": "2024-11-13T18:07:15.977999Z",
     "start_time": "2024-11-13T18:07:15.974692Z"
    }
   },
   "source": [
    "import pandas as pd\n",
    "import seaborn as sns\n",
    "import matplotlib.pyplot as plt"
   ],
   "outputs": [],
   "execution_count": 1
  },
  {
   "cell_type": "markdown",
   "metadata": {
    "id": "ukoQiAtYeCNr"
   },
   "source": [
    "1. Load the given CSV file and display the first 8 rows of the dataset. (0.5 points)"
   ]
  },
  {
   "cell_type": "code",
   "metadata": {
    "id": "UsDFVqz5dnNR",
    "ExecuteTime": {
     "end_time": "2024-11-13T18:07:16.019898Z",
     "start_time": "2024-11-13T18:07:15.991280Z"
    }
   },
   "source": [
    "df_attrition = pd.read_csv(\"data/attrition.csv\")\n",
    "df_attrition[0:8]"
   ],
   "outputs": [
    {
     "data": {
      "text/plain": [
       "    Age Attrition BusinessTravel  DailyRate              Department  \\\n",
       "0  41.0       Yes            NaN       1102                   Sales   \n",
       "1  49.0        No            NaN        279  Research & Development   \n",
       "2  37.0       Yes            NaN       1373  Research & Development   \n",
       "3  33.0        No            NaN       1392  Research & Development   \n",
       "4  27.0        No            NaN        591  Research & Development   \n",
       "5  32.0        No            NaN       1005  Research & Development   \n",
       "6  59.0        No  Travel_Rarely       1324  Research & Development   \n",
       "7  30.0        No            NaN       1358  Research & Development   \n",
       "\n",
       "   DistanceFromHome  Education EducationField  EmployeeCount  EmployeeNumber  \\\n",
       "0               1.0          2  Life Sciences              1               1   \n",
       "1               8.0          1  Life Sciences              1               2   \n",
       "2               2.0          2          Other              1               4   \n",
       "3               3.0          4  Life Sciences              1               5   \n",
       "4               2.0          1        Medical              1               7   \n",
       "5               2.0          2  Life Sciences              1               8   \n",
       "6               3.0          3        Medical              1              10   \n",
       "7              24.0          1  Life Sciences              1              11   \n",
       "\n",
       "   ...  NumCompaniesWorked Over18  OverTime  PerformanceRating  \\\n",
       "0  ...                   8      Y       Yes                  3   \n",
       "1  ...                   1      Y        No                  4   \n",
       "2  ...                   6      Y       Yes                  3   \n",
       "3  ...                   1      Y       Yes                  3   \n",
       "4  ...                   9      Y        No                  3   \n",
       "5  ...                   0      Y        No                  3   \n",
       "6  ...                   4      Y       Yes                  4   \n",
       "7  ...                   1      Y        No                  4   \n",
       "\n",
       "  TotalWorkingYears  TrainingTimesLastYear  YearsAtCompany  \\\n",
       "0                 8                      0               6   \n",
       "1                10                      3              10   \n",
       "2                 7                      3               0   \n",
       "3                 8                      3               8   \n",
       "4                 6                      3               2   \n",
       "5                 8                      2               7   \n",
       "6                12                      3               1   \n",
       "7                 1                      2               1   \n",
       "\n",
       "   YearsInCurrentRole YearsSinceLastPromotion YearsWithCurrManager  \n",
       "0                   4                       0                    5  \n",
       "1                   7                       1                    7  \n",
       "2                   0                       0                    0  \n",
       "3                   7                       3                    0  \n",
       "4                   2                       2                    2  \n",
       "5                   7                       3                    6  \n",
       "6                   0                       0                    0  \n",
       "7                   0                       0                    0  \n",
       "\n",
       "[8 rows x 27 columns]"
      ],
      "text/html": [
       "<div>\n",
       "<style scoped>\n",
       "    .dataframe tbody tr th:only-of-type {\n",
       "        vertical-align: middle;\n",
       "    }\n",
       "\n",
       "    .dataframe tbody tr th {\n",
       "        vertical-align: top;\n",
       "    }\n",
       "\n",
       "    .dataframe thead th {\n",
       "        text-align: right;\n",
       "    }\n",
       "</style>\n",
       "<table border=\"1\" class=\"dataframe\">\n",
       "  <thead>\n",
       "    <tr style=\"text-align: right;\">\n",
       "      <th></th>\n",
       "      <th>Age</th>\n",
       "      <th>Attrition</th>\n",
       "      <th>BusinessTravel</th>\n",
       "      <th>DailyRate</th>\n",
       "      <th>Department</th>\n",
       "      <th>DistanceFromHome</th>\n",
       "      <th>Education</th>\n",
       "      <th>EducationField</th>\n",
       "      <th>EmployeeCount</th>\n",
       "      <th>EmployeeNumber</th>\n",
       "      <th>...</th>\n",
       "      <th>NumCompaniesWorked</th>\n",
       "      <th>Over18</th>\n",
       "      <th>OverTime</th>\n",
       "      <th>PerformanceRating</th>\n",
       "      <th>TotalWorkingYears</th>\n",
       "      <th>TrainingTimesLastYear</th>\n",
       "      <th>YearsAtCompany</th>\n",
       "      <th>YearsInCurrentRole</th>\n",
       "      <th>YearsSinceLastPromotion</th>\n",
       "      <th>YearsWithCurrManager</th>\n",
       "    </tr>\n",
       "  </thead>\n",
       "  <tbody>\n",
       "    <tr>\n",
       "      <th>0</th>\n",
       "      <td>41.0</td>\n",
       "      <td>Yes</td>\n",
       "      <td>NaN</td>\n",
       "      <td>1102</td>\n",
       "      <td>Sales</td>\n",
       "      <td>1.0</td>\n",
       "      <td>2</td>\n",
       "      <td>Life Sciences</td>\n",
       "      <td>1</td>\n",
       "      <td>1</td>\n",
       "      <td>...</td>\n",
       "      <td>8</td>\n",
       "      <td>Y</td>\n",
       "      <td>Yes</td>\n",
       "      <td>3</td>\n",
       "      <td>8</td>\n",
       "      <td>0</td>\n",
       "      <td>6</td>\n",
       "      <td>4</td>\n",
       "      <td>0</td>\n",
       "      <td>5</td>\n",
       "    </tr>\n",
       "    <tr>\n",
       "      <th>1</th>\n",
       "      <td>49.0</td>\n",
       "      <td>No</td>\n",
       "      <td>NaN</td>\n",
       "      <td>279</td>\n",
       "      <td>Research &amp; Development</td>\n",
       "      <td>8.0</td>\n",
       "      <td>1</td>\n",
       "      <td>Life Sciences</td>\n",
       "      <td>1</td>\n",
       "      <td>2</td>\n",
       "      <td>...</td>\n",
       "      <td>1</td>\n",
       "      <td>Y</td>\n",
       "      <td>No</td>\n",
       "      <td>4</td>\n",
       "      <td>10</td>\n",
       "      <td>3</td>\n",
       "      <td>10</td>\n",
       "      <td>7</td>\n",
       "      <td>1</td>\n",
       "      <td>7</td>\n",
       "    </tr>\n",
       "    <tr>\n",
       "      <th>2</th>\n",
       "      <td>37.0</td>\n",
       "      <td>Yes</td>\n",
       "      <td>NaN</td>\n",
       "      <td>1373</td>\n",
       "      <td>Research &amp; Development</td>\n",
       "      <td>2.0</td>\n",
       "      <td>2</td>\n",
       "      <td>Other</td>\n",
       "      <td>1</td>\n",
       "      <td>4</td>\n",
       "      <td>...</td>\n",
       "      <td>6</td>\n",
       "      <td>Y</td>\n",
       "      <td>Yes</td>\n",
       "      <td>3</td>\n",
       "      <td>7</td>\n",
       "      <td>3</td>\n",
       "      <td>0</td>\n",
       "      <td>0</td>\n",
       "      <td>0</td>\n",
       "      <td>0</td>\n",
       "    </tr>\n",
       "    <tr>\n",
       "      <th>3</th>\n",
       "      <td>33.0</td>\n",
       "      <td>No</td>\n",
       "      <td>NaN</td>\n",
       "      <td>1392</td>\n",
       "      <td>Research &amp; Development</td>\n",
       "      <td>3.0</td>\n",
       "      <td>4</td>\n",
       "      <td>Life Sciences</td>\n",
       "      <td>1</td>\n",
       "      <td>5</td>\n",
       "      <td>...</td>\n",
       "      <td>1</td>\n",
       "      <td>Y</td>\n",
       "      <td>Yes</td>\n",
       "      <td>3</td>\n",
       "      <td>8</td>\n",
       "      <td>3</td>\n",
       "      <td>8</td>\n",
       "      <td>7</td>\n",
       "      <td>3</td>\n",
       "      <td>0</td>\n",
       "    </tr>\n",
       "    <tr>\n",
       "      <th>4</th>\n",
       "      <td>27.0</td>\n",
       "      <td>No</td>\n",
       "      <td>NaN</td>\n",
       "      <td>591</td>\n",
       "      <td>Research &amp; Development</td>\n",
       "      <td>2.0</td>\n",
       "      <td>1</td>\n",
       "      <td>Medical</td>\n",
       "      <td>1</td>\n",
       "      <td>7</td>\n",
       "      <td>...</td>\n",
       "      <td>9</td>\n",
       "      <td>Y</td>\n",
       "      <td>No</td>\n",
       "      <td>3</td>\n",
       "      <td>6</td>\n",
       "      <td>3</td>\n",
       "      <td>2</td>\n",
       "      <td>2</td>\n",
       "      <td>2</td>\n",
       "      <td>2</td>\n",
       "    </tr>\n",
       "    <tr>\n",
       "      <th>5</th>\n",
       "      <td>32.0</td>\n",
       "      <td>No</td>\n",
       "      <td>NaN</td>\n",
       "      <td>1005</td>\n",
       "      <td>Research &amp; Development</td>\n",
       "      <td>2.0</td>\n",
       "      <td>2</td>\n",
       "      <td>Life Sciences</td>\n",
       "      <td>1</td>\n",
       "      <td>8</td>\n",
       "      <td>...</td>\n",
       "      <td>0</td>\n",
       "      <td>Y</td>\n",
       "      <td>No</td>\n",
       "      <td>3</td>\n",
       "      <td>8</td>\n",
       "      <td>2</td>\n",
       "      <td>7</td>\n",
       "      <td>7</td>\n",
       "      <td>3</td>\n",
       "      <td>6</td>\n",
       "    </tr>\n",
       "    <tr>\n",
       "      <th>6</th>\n",
       "      <td>59.0</td>\n",
       "      <td>No</td>\n",
       "      <td>Travel_Rarely</td>\n",
       "      <td>1324</td>\n",
       "      <td>Research &amp; Development</td>\n",
       "      <td>3.0</td>\n",
       "      <td>3</td>\n",
       "      <td>Medical</td>\n",
       "      <td>1</td>\n",
       "      <td>10</td>\n",
       "      <td>...</td>\n",
       "      <td>4</td>\n",
       "      <td>Y</td>\n",
       "      <td>Yes</td>\n",
       "      <td>4</td>\n",
       "      <td>12</td>\n",
       "      <td>3</td>\n",
       "      <td>1</td>\n",
       "      <td>0</td>\n",
       "      <td>0</td>\n",
       "      <td>0</td>\n",
       "    </tr>\n",
       "    <tr>\n",
       "      <th>7</th>\n",
       "      <td>30.0</td>\n",
       "      <td>No</td>\n",
       "      <td>NaN</td>\n",
       "      <td>1358</td>\n",
       "      <td>Research &amp; Development</td>\n",
       "      <td>24.0</td>\n",
       "      <td>1</td>\n",
       "      <td>Life Sciences</td>\n",
       "      <td>1</td>\n",
       "      <td>11</td>\n",
       "      <td>...</td>\n",
       "      <td>1</td>\n",
       "      <td>Y</td>\n",
       "      <td>No</td>\n",
       "      <td>4</td>\n",
       "      <td>1</td>\n",
       "      <td>2</td>\n",
       "      <td>1</td>\n",
       "      <td>0</td>\n",
       "      <td>0</td>\n",
       "      <td>0</td>\n",
       "    </tr>\n",
       "  </tbody>\n",
       "</table>\n",
       "<p>8 rows × 27 columns</p>\n",
       "</div>"
      ]
     },
     "execution_count": 2,
     "metadata": {},
     "output_type": "execute_result"
    }
   ],
   "execution_count": 2
  },
  {
   "cell_type": "markdown",
   "metadata": {
    "id": "R36_1na2ePWa"
   },
   "source": [
    "2. Find monotonic and constant features and remove them. (1 point)"
   ]
  },
  {
   "cell_type": "code",
   "metadata": {
    "id": "AZ-tPIMkeVD1",
    "ExecuteTime": {
     "end_time": "2024-11-13T18:07:16.139796Z",
     "start_time": "2024-11-13T18:07:16.126623Z"
    }
   },
   "source": [
    "nrows = df_attrition[\"Age\"].size\n",
    "keys_const = df_attrition.columns[df_attrition.nunique() <= 1] # constant because only one value exist\n",
    "keys_monoton = df_attrition.columns[df_attrition.nunique() == nrows] # monoton because every value is different\n",
    "print(\"Constant features: \" + str(list(keys_const)))\n",
    "print(\"Monoton features: \" + str(list(keys_monoton)))\n",
    "\n",
    "# remove constant and monoton features\n",
    "df_attrition.drop(keys_monoton, axis=1, inplace=True)\n",
    "df_attrition.drop(keys_const, axis=1, inplace=True)\n",
    "\n"
   ],
   "outputs": [
    {
     "name": "stdout",
     "output_type": "stream",
     "text": [
      "Constant features: ['EmployeeCount', 'Over18']\n",
      "Monoton features: ['EmployeeNumber']\n"
     ]
    }
   ],
   "execution_count": 3
  },
  {
   "cell_type": "markdown",
   "metadata": {
    "id": "t292XnhGeWoO"
   },
   "source": [
    "3. Find missing values. Perform imputation/removal of missing values using an appropriate method. Explain why you applied the chosen methods. (2 points)"
   ]
  },
  {
   "cell_type": "code",
   "metadata": {
    "id": "Orq6jIxVeob3",
    "ExecuteTime": {
     "end_time": "2024-11-13T18:07:16.216961Z",
     "start_time": "2024-11-13T18:07:16.203972Z"
    }
   },
   "source": [
    "l_col_na = list(df_attrition.columns[df_attrition.isna().sum() > 0])\n",
    "print(\"Columns with missing values: \" + str(l_col_na))\n",
    "for col in l_col_na:\n",
    "    print(\"Amount missing values, \" + col + \": \" + str(df_attrition[col].isna().sum()))\n",
    "    \n",
    "# In general there are some methods for dealing with missing data, as example, removing the measurements, removing the feature, interpolate the data or fill missing data with mean or median values of the feature, or getting the data from other datasets\n",
    "# For Age and DistanceFromHome, i remove the measurements with missing data from the dataset, because 73 of 1470 measurements is only 5% and i assume that there is no certain reason for the absence of the data, so no other information is lost. \n",
    "# Interpolation makes no sense here\n",
    "# Filling the missing values with mean or median value is here also a valid method.\n",
    "\n",
    "df_attrition = df_attrition[df_attrition.Age.isna() == False]\n",
    "df_attrition = df_attrition[df_attrition.DistanceFromHome.isna() == False]\n",
    "\n",
    "# For BusinessTravel interpolation and median/mean value makes no sense because its not numerical.\n",
    "# Dropping measurements is not an option because 1323 of 1470 is almost the whole dataset, thats why i drop the feature.\n",
    "df_attrition.drop(\"BusinessTravel\", axis=1, inplace=True)"
   ],
   "outputs": [
    {
     "name": "stdout",
     "output_type": "stream",
     "text": [
      "Columns with missing values: ['Age', 'BusinessTravel', 'DistanceFromHome']\n",
      "Amount missing values, Age: 73\n",
      "Amount missing values, BusinessTravel: 1323\n",
      "Amount missing values, DistanceFromHome: 73\n"
     ]
    }
   ],
   "execution_count": 4
  },
  {
   "cell_type": "markdown",
   "metadata": {
    "id": "p5eYuIUYepeM"
   },
   "source": [
    "4. Transform categorical features into numerical ones. (1 point)"
   ]
  },
  {
   "metadata": {
    "id": "ujg6U2k0evhM",
    "ExecuteTime": {
     "end_time": "2024-11-13T18:07:16.283475Z",
     "start_time": "2024-11-13T18:07:16.275044Z"
    }
   },
   "cell_type": "code",
   "source": [
    "# create list with names of categorical features\n",
    "list_categorical = list()\n",
    "for col in df_attrition.columns:\n",
    "    if df_attrition[col].dtypes == 'object':\n",
    "        list_categorical.append(col)\n",
    "print(\"Categorical features: \" + str(list_categorical))\n",
    "# copy dataframe because the next task needs categorical features\n",
    "df_attrition_cat2num = df_attrition.copy()\n",
    "for col in list_categorical:\n",
    "    df_attrition_cat2num[col] = pd.factorize(df_attrition[col])[0]"
   ],
   "outputs": [
    {
     "name": "stdout",
     "output_type": "stream",
     "text": [
      "Categorical features: ['Attrition', 'Department', 'EducationField', 'Gender', 'MaritalStatus', 'OverTime']\n"
     ]
    }
   ],
   "execution_count": 5
  },
  {
   "cell_type": "markdown",
   "metadata": {
    "id": "eWQ8Ggn8ewmq"
   },
   "source": [
    "5. For numerical features, display the mean, median, minimum, and maximum values. For categorical features, print the frequency of each value. (1.5 points)"
   ]
  },
  {
   "cell_type": "code",
   "metadata": {
    "id": "g5FhlAeJfBvB",
    "ExecuteTime": {
     "end_time": "2024-11-13T18:07:16.404460Z",
     "start_time": "2024-11-13T18:07:16.361874Z"
    }
   },
   "source": [
    "# print data for every feature, depending on if its categorical or not\n",
    "for col in df_attrition.columns:\n",
    "    print(\"Column: \" + col)\n",
    "    if col in list_categorical:\n",
    "        count_per_title = df_attrition.groupby(col).count().loc[:,'Age'].values\n",
    "        title_name = df_attrition.groupby(col).count().index.values\n",
    "        for i in range(len(count_per_title)):\n",
    "            print(\"   \" + title_name[i] + \": \" + str(count_per_title[i]))\n",
    "    else:\n",
    "        print(\"   mean: \" + str(df_attrition[col].mean()))\n",
    "        print(\"   median: \" + str(df_attrition[col].median()))\n",
    "        print(\"   min: \" + str(df_attrition[col].min()))\n",
    "        print(\"   max: \" + str(df_attrition[col].max()))"
   ],
   "outputs": [
    {
     "name": "stdout",
     "output_type": "stream",
     "text": [
      "Column: Age\n",
      "   mean: 37.04151753758053\n",
      "   median: 36.0\n",
      "   min: 18.0\n",
      "   max: 60.0\n",
      "Column: Attrition\n",
      "   No: 1171\n",
      "   Yes: 226\n",
      "Column: DailyRate\n",
      "   mean: 801.1274158911954\n",
      "   median: 799.0\n",
      "   min: 102\n",
      "   max: 1499\n",
      "Column: Department\n",
      "   Human Resources: 60\n",
      "   Research & Development: 917\n",
      "   Sales: 420\n",
      "Column: DistanceFromHome\n",
      "   mean: 9.271295633500358\n",
      "   median: 7.0\n",
      "   min: 1.0\n",
      "   max: 29.0\n",
      "Column: Education\n",
      "   mean: 2.9205440229062276\n",
      "   median: 3.0\n",
      "   min: 1\n",
      "   max: 5\n",
      "Column: EducationField\n",
      "   Human Resources: 25\n",
      "   Life Sciences: 581\n",
      "   Marketing: 149\n",
      "   Medical: 445\n",
      "   Other: 77\n",
      "   Technical Degree: 120\n",
      "Column: EnvironmentSatisfaction\n",
      "   mean: 2.7251252684323553\n",
      "   median: 3.0\n",
      "   min: 1\n",
      "   max: 4\n",
      "Column: Gender\n",
      "   Female: 557\n",
      "   Male: 840\n",
      "Column: HourlyRate\n",
      "   mean: 65.92555476020043\n",
      "   median: 66.0\n",
      "   min: 30\n",
      "   max: 100\n",
      "Column: JobSatisfaction\n",
      "   mean: 2.7258410880458124\n",
      "   median: 3.0\n",
      "   min: 1\n",
      "   max: 4\n",
      "Column: MaritalStatus\n",
      "   Divorced: 312\n",
      "   Married: 643\n",
      "   Single: 442\n",
      "Column: MonthlyIncome\n",
      "   mean: 6485.4896206156045\n",
      "   median: 4936.0\n",
      "   min: 1009\n",
      "   max: 19999\n",
      "Column: MonthlyRate\n",
      "   mean: 14318.025769506085\n",
      "   median: 14229.0\n",
      "   min: 2094\n",
      "   max: 26999\n",
      "Column: NumCompaniesWorked\n",
      "   mean: 2.677165354330709\n",
      "   median: 2.0\n",
      "   min: 0\n",
      "   max: 9\n",
      "Column: OverTime\n",
      "   No: 997\n",
      "   Yes: 400\n",
      "Column: PerformanceRating\n",
      "   mean: 3.152469577666428\n",
      "   median: 3.0\n",
      "   min: 3\n",
      "   max: 4\n",
      "Column: TotalWorkingYears\n",
      "   mean: 11.31209735146743\n",
      "   median: 10.0\n",
      "   min: 0\n",
      "   max: 40\n",
      "Column: TrainingTimesLastYear\n",
      "   mean: 2.7938439513242663\n",
      "   median: 3.0\n",
      "   min: 0\n",
      "   max: 6\n",
      "Column: YearsAtCompany\n",
      "   mean: 7.068002863278454\n",
      "   median: 5.0\n",
      "   min: 0\n",
      "   max: 40\n",
      "Column: YearsInCurrentRole\n",
      "   mean: 4.271295633500358\n",
      "   median: 3.0\n",
      "   min: 0\n",
      "   max: 18\n",
      "Column: YearsSinceLastPromotion\n",
      "   mean: 2.217609162491052\n",
      "   median: 1.0\n",
      "   min: 0\n",
      "   max: 15\n",
      "Column: YearsWithCurrManager\n",
      "   mean: 4.143163922691482\n",
      "   median: 3.0\n",
      "   min: 0\n",
      "   max: 17\n"
     ]
    }
   ],
   "execution_count": 6
  },
  {
   "cell_type": "markdown",
   "metadata": {
    "id": "pbcIa2zhfGCE"
   },
   "source": [
    "6. Normalize the numerical features. (1 bod)"
   ]
  },
  {
   "cell_type": "code",
   "metadata": {
    "id": "oFpbD2Q4fKzN",
    "ExecuteTime": {
     "end_time": "2024-11-13T18:07:16.439715Z",
     "start_time": "2024-11-13T18:07:16.426629Z"
    }
   },
   "source": [
    "# create new normalized dataframe\n",
    "df_attrition_norm = df_attrition.copy()\n",
    "# for all non-categorical columns\n",
    "for col in df_attrition.columns:\n",
    "    if col not in list_categorical:\n",
    "        # transformation into values between 0 and 1, no negative values exist here.\n",
    "        df_attrition_norm[col] = df_attrition[col].astype(\"float64\")\n",
    "        df_attrition_norm[col] = df_attrition[col] / df_attrition[col].max()"
   ],
   "outputs": [],
   "execution_count": 7
  },
  {
   "cell_type": "markdown",
   "metadata": {
    "id": "Reu-ZdjVfOj7"
   },
   "source": [
    "7. Create a composite plot with 4 subplots (2 rows and 2 columns). Add titles to the subplots and label the axes on each of them. Visualize the following: (3 points)\n",
    "  - Histogram of an arbitrary categorical feature\n",
    "  - Pie chart of the target variable\n",
    "  - Box plot of an arbitrary numerical feature\n",
    "  - Scatter plot of two arbitrary numerical features. Color the samples based on the value of the target variable."
   ]
  },
  {
   "cell_type": "code",
   "metadata": {
    "id": "pd0xZC41frtr",
    "ExecuteTime": {
     "end_time": "2024-11-13T18:07:16.671534Z",
     "start_time": "2024-11-13T18:07:16.483122Z"
    }
   },
   "source": [
    "#   - Histogram of education field\n",
    "col_name = \"EducationField\"\n",
    "# get title names and amount of people\n",
    "count_per_title = df_attrition.groupby(col_name).count().loc[:,'Age'].values\n",
    "title_name = df_attrition.groupby(col_name).count().index.values\n",
    "# make bar plot (fancier than hist plot for this application)\n",
    "plt.bar(title_name, count_per_title, width=1)\n",
    "plt.title(\"Distribution of education fields\")\n",
    "plt.show()\n"
   ],
   "outputs": [
    {
     "data": {
      "text/plain": [
       "<Figure size 640x480 with 1 Axes>"
      ],
      "image/png": "[encoded data removed]"
     },
     "metadata": {},
     "output_type": "display_data"
    }
   ],
   "execution_count": 8
  },
  {
   "metadata": {
    "ExecuteTime": {
     "end_time": "2024-11-13T18:07:16.766549Z",
     "start_time": "2024-11-13T18:07:16.698038Z"
    }
   },
   "cell_type": "code",
   "source": [
    "#   - Pie chart of the target variable: attrition\n",
    "col_name = \"Attrition\"\n",
    "count_per_title = df_attrition.groupby(col_name).count().loc[:,'Age'].values\n",
    "title_name = df_attrition.groupby(col_name).count().index.values\n",
    "\n",
    "plt.pie(count_per_title, labels=title_name, autopct='%.1f')\n",
    "plt.title(\"Attrition in %\")\n",
    "plt.show()"
   ],
   "outputs": [
    {
     "data": {
      "text/plain": [
       "<Figure size 640x480 with 1 Axes>"
      ],
      "image/png": "[encoded data removed]"
     },
     "metadata": {},
     "output_type": "display_data"
    }
   ],
   "execution_count": 9
  },
  {
   "metadata": {
    "ExecuteTime": {
     "end_time": "2024-11-13T18:07:16.900511Z",
     "start_time": "2024-11-13T18:07:16.792976Z"
    }
   },
   "cell_type": "code",
   "source": [
    "# Boxplot of DailyRate\n",
    "plt.boxplot(df_attrition.Age)\n",
    "plt.title('Box plot for age')\n",
    "plt.xlabel(\"Age\")\n",
    "plt.ylim([10,70])\n",
    "plt.show()"
   ],
   "outputs": [
    {
     "data": {
      "text/plain": [
       "<Figure size 640x480 with 1 Axes>"
      ],
      "image/png": "[encoded data removed]"
     },
     "metadata": {},
     "output_type": "display_data"
    }
   ],
   "execution_count": 10
  },
  {
   "metadata": {
    "ExecuteTime": {
     "end_time": "2024-11-13T18:07:17.172586Z",
     "start_time": "2024-11-13T18:07:16.929335Z"
    }
   },
   "cell_type": "code",
   "source": [
    "# - Scatter plot of age and dailyRate features. Color the samples based on the value of the target variable.\n",
    "\n",
    "mask_attrition = df_attrition.Attrition == \"Yes\"\n",
    "# scatter plot with different colers\n",
    "plt.scatter(df_attrition.DailyRate[~mask_attrition], df_attrition.Age[~mask_attrition], color=\"purple\")\n",
    "plt.scatter(df_attrition.DailyRate[mask_attrition], df_attrition.Age[mask_attrition], color=\"darkgreen\")\n",
    "\n",
    "# enable grid and name the axes\n",
    "plt.grid()\n",
    "plt.ylabel('Age')\n",
    "plt.xlabel('DailyRate')\n",
    "\n"
   ],
   "outputs": [
    {
     "data": {
      "text/plain": [
       "Text(0.5, 0, 'DailyRate')"
      ]
     },
     "execution_count": 11,
     "metadata": {},
     "output_type": "execute_result"
    },
    {
     "data": {
      "text/plain": [
       "<Figure size 640x480 with 1 Axes>"
      ],
      "image/png": "[encoded data removed]"
     },
     "metadata": {},
     "output_type": "display_data"
    }
   ],
   "execution_count": 11
  }
 ],
 "metadata": {
  "colab": {
   "provenance": []
  },
  "kernelspec": {
   "display_name": "Python 3 (ipykernel)",
   "language": "python",
   "name": "python3"
  },
  "language_info": {
   "codemirror_mode": {
    "name": "ipython",
    "version": 3
   },
   "file_extension": ".py",
   "mimetype": "text/x-python",
   "name": "python",
   "nbconvert_exporter": "python",
   "pygments_lexer": "ipython3",
   "version": "3.12.6"
  }
 },
 "nbformat": 4,
 "nbformat_minor": 4
}
